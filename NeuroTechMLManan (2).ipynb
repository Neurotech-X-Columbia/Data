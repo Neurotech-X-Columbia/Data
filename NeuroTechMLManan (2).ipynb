{
  "nbformat": 4,
  "nbformat_minor": 0,
  "metadata": {
    "colab": {
      "provenance": []
    },
    "kernelspec": {
      "name": "python3",
      "display_name": "Python 3"
    },
    "language_info": {
      "name": "python"
    }
  },
  "cells": [
    {
      "cell_type": "code",
      "source": [
        "# @title Libraries\n",
        "import numpy as np\n",
        "import pandas as pd\n",
        "import scipy\n",
        "from scipy import signal\n",
        "import matplotlib.pyplot as plt\n",
        "import os\n",
        "from matplotlib.mlab import psd\n",
        "\n",
        "import pandas as pd\n",
        "from sklearn.model_selection import train_test_split\n",
        "from sklearn.preprocessing import StandardScaler\n",
        "from sklearn.ensemble import RandomForestClassifier\n",
        "from sklearn.model_selection import GridSearchCV\n",
        "from sklearn.metrics import accuracy_score, confusion_matrix, plot_confusion_matrix\n",
        "import tensorflow as tf\n",
        "import xgboost as xgb\n",
        "import os\n",
        "import tabulate\n",
        "from sklearn.preprocessing import StandardScaler\n",
        "from sklearn.model_selection import train_test_split\n",
        "\n",
        "from sklearn.metrics import confusion_matrix, classification_report\n",
        "from IPython.display import clear_output\n",
        "import tensorflow as tf\n",
        "from sklearn.metrics import confusion_matrix\n",
        "import numpy as np\n",
        "from scipy.io import loadmat\n",
        "import os\n",
        "from pywt import wavedec\n",
        "from functools import reduce\n",
        "from scipy import signal\n",
        "from scipy.stats import entropy\n",
        "from scipy.fft import fft, ifft\n",
        "import pandas as pd\n",
        "from sklearn.model_selection import train_test_split, StratifiedKFold\n",
        "from sklearn.preprocessing import StandardScaler\n",
        "from tensorflow import keras as K\n",
        "import matplotlib.pyplot as plt\n",
        "import scipy\n",
        "from sklearn import metrics\n",
        "from sklearn.ensemble import RandomForestClassifier\n",
        "from sklearn.neighbors import KNeighborsClassifier\n",
        "from sklearn.svm import SVC\n",
        "from sklearn.metrics import accuracy_score\n",
        "from sklearn.model_selection import KFold,cross_validate\n",
        "from tensorflow.keras.layers import Dense, Activation, Flatten, concatenate, Input, Dropout, LSTM, Bidirectional,BatchNormalization,PReLU,ReLU,Reshape\n",
        "from keras.wrappers.scikit_learn import KerasClassifier\n",
        "from sklearn.metrics import classification_report\n",
        "from tensorflow.keras.models import Sequential, Model, load_model\n",
        "import matplotlib.pyplot as plt;\n",
        "from tensorflow.keras.callbacks import EarlyStopping, ModelCheckpoint\n",
        "from sklearn.decomposition import PCA\n",
        "from sklearn.model_selection import cross_val_score\n",
        "from tensorflow import keras\n",
        "from tensorflow.keras.layers import Conv1D,Conv2D,Add\n",
        "from tensorflow.keras.layers import MaxPool1D, MaxPooling2D\n",
        "import seaborn as sns\n",
        "import random\n",
        "\n",
        "#@title Run this to import classifiers\n",
        "import numpy as np\n",
        "import matplotlib.pyplot as plt\n",
        "from matplotlib.colors import ListedColormap\n",
        "from sklearn.model_selection import train_test_split\n",
        "from sklearn.preprocessing import StandardScaler\n",
        "from sklearn.datasets import make_moons, make_circles, make_classification\n",
        "from sklearn.neural_network import MLPClassifier\n",
        "from sklearn.neighbors import KNeighborsClassifier\n",
        "from sklearn.svm import SVC\n",
        "from sklearn.gaussian_process import GaussianProcessClassifier\n",
        "from sklearn.gaussian_process.kernels import RBF\n",
        "from sklearn.tree import DecisionTreeClassifier\n",
        "from sklearn.ensemble import RandomForestClassifier, AdaBoostClassifier\n",
        "from sklearn.naive_bayes import GaussianNB\n",
        "from sklearn.discriminant_analysis import QuadraticDiscriminantAnalysis\n"
      ],
      "metadata": {
        "cellView": "form",
        "id": "rutWMeMecTWk"
      },
      "execution_count": 20,
      "outputs": []
    },
    {
      "cell_type": "code",
      "execution_count": 19,
      "metadata": {
        "colab": {
          "base_uri": "https://localhost:8080/"
        },
        "id": "lz7CmJr7b0hk",
        "outputId": "a35d1c2d-aa67-40ad-ad62-0d3855352317"
      },
      "outputs": [
        {
          "output_type": "stream",
          "name": "stdout",
          "text": [
            "Cloning into 'Data'...\n",
            "remote: Enumerating objects: 230, done.\u001b[K\n",
            "remote: Counting objects: 100% (223/223), done.\u001b[K\n",
            "remote: Compressing objects: 100% (202/202), done.\u001b[K\n",
            "remote: Total 230 (delta 23), reused 209 (delta 18), pack-reused 7\u001b[K\n",
            "Receiving objects: 100% (230/230), 101.35 MiB | 20.23 MiB/s, done.\n",
            "Resolving deltas: 100% (23/23), done.\n",
            "Checking out files: 100% (150/150), done.\n"
          ]
        }
      ],
      "source": [
        "!rm -r /content/Data\n",
        "!git clone https://github.com/Neurotech-X-Columbia/Data.git\n",
        "!rm -r /content/Data/SSVEP/TF"
      ]
    },
    {
      "cell_type": "code",
      "source": [
        "num_chans = 16\n",
        "fs = 125\n",
        "notch_f = 60\n",
        "Q_factor = 30\n",
        "lp_f = 2\n",
        "iir_hp_2 = signal.iirfilter(2, 2. / fs, btype='highpass')\n",
        "a, b = signal.iirnotch(notch_f, Q_factor, fs)\n",
        "\n",
        "def filtering(d):\n",
        "    filtered_sig = signal.filtfilt(iir_hp_2[0], iir_hp_2[1], d, padlen=0)\n",
        "    filtnnotch_sig = signal.filtfilt(a, b, filtered_sig, padlen=0)\n",
        "    return filtnnotch_sig"
      ],
      "metadata": {
        "id": "hDs91L39g12F"
      },
      "execution_count": 21,
      "outputs": []
    },
    {
      "cell_type": "code",
      "source": [
        "datadir = r'/content/Data/SSVEP'\n",
        "category_folders = [x[0] for x in os.walk(datadir) if 'Bottom' in x[0] or 'Top' in x[0]]\n",
        "category_folders"
      ],
      "metadata": {
        "id": "77aHmwjfcEGT",
        "colab": {
          "base_uri": "https://localhost:8080/"
        },
        "outputId": "f220b6f6-7f4a-4f96-8eab-09c8b2c0ce37"
      },
      "execution_count": 22,
      "outputs": [
        {
          "output_type": "execute_result",
          "data": {
            "text/plain": [
              "['/content/Data/SSVEP/GG/BottomMiddle',\n",
              " '/content/Data/SSVEP/GG/TopRight',\n",
              " '/content/Data/SSVEP/GG/TopLeft',\n",
              " '/content/Data/SSVEP/GG/BottomRight',\n",
              " '/content/Data/SSVEP/GG/BottomLeft',\n",
              " '/content/Data/SSVEP/JP/BottomMiddle',\n",
              " '/content/Data/SSVEP/JP/TopRight',\n",
              " '/content/Data/SSVEP/JP/TopLeft',\n",
              " '/content/Data/SSVEP/JP/BottomRight',\n",
              " '/content/Data/SSVEP/JP/BottomLeft',\n",
              " '/content/Data/SSVEP/NG/BottomMiddle',\n",
              " '/content/Data/SSVEP/NG/TopRight',\n",
              " '/content/Data/SSVEP/NG/TopLeft',\n",
              " '/content/Data/SSVEP/NG/BottomRight',\n",
              " '/content/Data/SSVEP/NG/BottomLeft',\n",
              " '/content/Data/SSVEP/MC/BottomMiddle',\n",
              " '/content/Data/SSVEP/MC/TopRight',\n",
              " '/content/Data/SSVEP/MC/TopLeft',\n",
              " '/content/Data/SSVEP/MC/BottomRight',\n",
              " '/content/Data/SSVEP/MC/BottomLeft']"
            ]
          },
          "metadata": {},
          "execution_count": 22
        }
      ]
    },
    {
      "cell_type": "code",
      "source": [
        "ids = ['TopLeft', 'TopRight', 'BottomLeft', 'BottomMiddle', 'BottomRight']\n",
        "positions = [[],[],[],[],[]] #each subarray corresponds to position above\n",
        "for i, pos in enumerate(ids):\n",
        "    for f in category_folders:\n",
        "        if f.endswith(pos):\n",
        "            for csv in os.listdir(f):\n",
        "                positions[i].append(np.genfromtxt(os.path.join(f, csv), delimiter=',')[1:])"
      ],
      "metadata": {
        "id": "NIYjZBsacdd-"
      },
      "execution_count": 23,
      "outputs": []
    },
    {
      "cell_type": "code",
      "source": [
        "plt.psd(filtering(positions[0][0][15,150:]), Fs=fs)"
      ],
      "metadata": {
        "id": "XmEqJWOqdqBa"
      },
      "execution_count": null,
      "outputs": []
    },
    {
      "cell_type": "code",
      "source": [
        "featnlab = []\n",
        "for ii in range(5):\n",
        "    for bruh, tri in enumerate(positions[ii]):\n",
        "        for chan in [14, 15]:\n",
        "            if not (np.isnan(tri).any()):\n",
        "                pow_fxx, fxx = psd(filtering(tri[chan, 125:]), Fs=fs) # what is the 125 here\n",
        "                featnlab.append(np.append(pow_fxx, ii))"
      ],
      "metadata": {
        "id": "Cf11GOHvhvUf"
      },
      "execution_count": 24,
      "outputs": []
    },
    {
      "cell_type": "code",
      "source": [
        "fnl = np.array(featnlab)\n",
        "print(fnl.shape)\n",
        "np.random.shuffle(fnl)"
      ],
      "metadata": {
        "id": "JvU390HeidL9",
        "colab": {
          "base_uri": "https://localhost:8080/"
        },
        "outputId": "e4a8fd4e-6fee-4d45-d951-c6bd548dbacb"
      },
      "execution_count": 25,
      "outputs": [
        {
          "output_type": "stream",
          "name": "stdout",
          "text": [
            "(200, 130)\n"
          ]
        }
      ]
    },
    {
      "cell_type": "code",
      "source": [
        "x = fnl[:, :129]\n",
        "y = fnl[:, 129:]\n",
        "y_cold = y \n",
        "#y_one_hot = pd.DataFrame(y). --> uncomment these lines to one-hot encode and run a deep-learning model\n",
        "#y_one_hot = pd.get_dummies(y_one_hot[0])\n",
        "#y = y_one_hot.to_numpy()\n",
        "x_train, x_test, y_train, y_test = train_test_split(x, y, test_size = .2)"
      ],
      "metadata": {
        "id": "7ox0GbvWigkk"
      },
      "execution_count": 27,
      "outputs": []
    },
    {
      "cell_type": "code",
      "source": [
        "# Use this cell to conduct hyper-paramter optimization for various classifiers\n",
        "results = []\n",
        "depth = range(15, 20)\n",
        "estimators = range(15, 20)\n",
        "max_f = range(15, 20)\n",
        "c = [0.001, 0.01, 0.1, 1, 10, 100]\n",
        "for i in depth:\n",
        "  for j in estimators:\n",
        "    for k in max_f:\n",
        "      model = RandomForestClassifier(max_depth=i, n_estimators=j, max_features=k).fit(x_train, y_train)\n",
        "      preds = model.predict(x_test)\n",
        "      acc = accuracy_score(y_test, preds)\n",
        "      results.append([i, j, k, acc])\n",
        "results = pd.DataFrame(results)\n",
        "results = results.sort_values(by=[3])\n",
        "results\n",
        "\n"
      ],
      "metadata": {
        "id": "tw4sSQ7AJgXT"
      },
      "execution_count": null,
      "outputs": []
    },
    {
      "cell_type": "code",
      "source": [
        "# Ensemble model here\n",
        "from collections import Counter\n",
        "m1 = KNeighborsClassifier(3).fit(x_train, y_train) # optimized\n",
        "m2 = SVC(kernel= \"linear\", C=0.07).fit(x_train, y_train) # optimized\n",
        "m3 = xgb.XGBClassifier(3).fit(x_train, y_train) # optimized\n",
        "m4 = RandomForestClassifier(max_depth=16, n_estimators=16, max_features=17).fit(x_train, y_train) # optimized\n",
        "\n",
        "def most_frequent(List):\n",
        "    counter = 0\n",
        "    num = List[0]\n",
        "    for i in List:\n",
        "        curr_frequency = List.count(i)\n",
        "        if(curr_frequency> counter):\n",
        "            counter = curr_frequency\n",
        "            num = i\n",
        "    if counter == 0:\n",
        "      return List[2]\n",
        "    return num\n",
        "\n",
        "#neurotech website, cincinnati childrens reasearch, summer program \n",
        "\n",
        "preds = []\n",
        "for i in range(len(x_test)):\n",
        "  preds1 = m1.predict(np.expand_dims(x_test[i], axis = 0))\n",
        "  preds2 = m2.predict(np.expand_dims(x_test[i], axis = 0))\n",
        "  preds3 = m3.predict(np.expand_dims(x_test[i], axis = 0))\n",
        "  preds4 = m4.predict(np.expand_dims(x_test[i], axis = 0))\n",
        "  predictions = [preds1, preds2, preds3, preds4]\n",
        "  preds.append(most_frequent(predictions))\n",
        "\n",
        "preds = np.array(preds)\n",
        "acc = accuracy_score(y_test, preds)\n",
        "acc\n"
      ],
      "metadata": {
        "colab": {
          "base_uri": "https://localhost:8080/"
        },
        "id": "GONtLC-FOxVF",
        "outputId": "21f648cd-4650-4a7d-c6ed-8cc7e395e945"
      },
      "execution_count": 32,
      "outputs": [
        {
          "output_type": "stream",
          "name": "stderr",
          "text": [
            "/usr/local/lib/python3.7/dist-packages/sklearn/neighbors/_classification.py:198: DataConversionWarning: A column-vector y was passed when a 1d array was expected. Please change the shape of y to (n_samples,), for example using ravel().\n",
            "  return self._fit(X, y)\n",
            "/usr/local/lib/python3.7/dist-packages/sklearn/utils/validation.py:993: DataConversionWarning: A column-vector y was passed when a 1d array was expected. Please change the shape of y to (n_samples, ), for example using ravel().\n",
            "  y = column_or_1d(y, warn=True)\n",
            "/usr/local/lib/python3.7/dist-packages/sklearn/preprocessing/_label.py:98: DataConversionWarning: A column-vector y was passed when a 1d array was expected. Please change the shape of y to (n_samples, ), for example using ravel().\n",
            "  y = column_or_1d(y, warn=True)\n",
            "/usr/local/lib/python3.7/dist-packages/sklearn/preprocessing/_label.py:133: DataConversionWarning: A column-vector y was passed when a 1d array was expected. Please change the shape of y to (n_samples, ), for example using ravel().\n",
            "  y = column_or_1d(y, warn=True)\n",
            "/usr/local/lib/python3.7/dist-packages/ipykernel_launcher.py:6: DataConversionWarning: A column-vector y was passed when a 1d array was expected. Please change the shape of y to (n_samples,), for example using ravel().\n",
            "  \n"
          ]
        },
        {
          "output_type": "execute_result",
          "data": {
            "text/plain": [
              "0.65"
            ]
          },
          "metadata": {},
          "execution_count": 32
        }
      ]
    },
    {
      "cell_type": "code",
      "source": [
        "classifiers = [\n",
        "    KNeighborsClassifier(3),\n",
        "    SVC(kernel=\"linear\", C=0.03),\n",
        "    GaussianProcessClassifier(1.0 * RBF(1.0)),\n",
        "    DecisionTreeClassifier(max_depth=5),\n",
        "    RandomForestClassifier(max_depth=5, n_estimators=10, max_features=1),\n",
        "    MLPClassifier(alpha=1, max_iter=1000),\n",
        "    AdaBoostClassifier(),\n",
        "    GaussianNB(),\n",
        "    QuadraticDiscriminantAnalysis()]\n",
        "\n",
        "results = []\n",
        "\n",
        "for i, classifier in enumerate(classifiers):\n",
        "  classifier.fit(x_train, y_train)\n",
        "  preds = classifier.predict(x_test)\n",
        "  acc = accuracy_score(y_test, preds)\n",
        "  results.append( [f'{classifier}', acc] )\n",
        "\n",
        "results = pd.DataFrame(results)\n",
        "results\n",
        "\n"
      ],
      "metadata": {
        "id": "bQK9FNNeAUOe"
      },
      "execution_count": null,
      "outputs": []
    },
    {
      "cell_type": "code",
      "source": [
        "inputs = tf.keras.Input(shape=(x_train.shape[1],))\n",
        "z = tf.keras.layers.Dense(256, activation='relu')(inputs)\n",
        "z = tf.keras.layers.Dropout(0.05)(z)\n",
        "outputs = tf.keras.layers.Dense(5, activation='softmax')(z)\n",
        "\n",
        "model_cnn = tf.keras.Model(inputs, outputs)"
      ],
      "metadata": {
        "id": "0tcetP3Zi77b"
      },
      "execution_count": null,
      "outputs": []
    },
    {
      "cell_type": "code",
      "source": [
        "model_cnn.compile(\n",
        "    optimizer='adam',\n",
        "    loss='categorical_crossentropy',\n",
        "    metrics=['accuracy']\n",
        ")\n",
        "\n",
        "batch_size = 128\n",
        "epochs = 1000\n",
        "\n",
        "history = model_cnn.fit(\n",
        "    x_train,\n",
        "    y_train,\n",
        "    validation_split=0.2,\n",
        "    batch_size=batch_size,\n",
        "    epochs=epochs,\n",
        "    callbacks = [\n",
        "    tf.keras.callbacks.EarlyStopping(\n",
        "    monitor='val_loss',\n",
        "    min_delta=0,\n",
        "    patience=500,\n",
        "    verbose=0,\n",
        "    mode='auto',\n",
        "    baseline=None,\n",
        "    restore_best_weights=True\n",
        "    )]\n",
        ")"
      ],
      "metadata": {
        "id": "AClp12j9ojRw"
      },
      "execution_count": null,
      "outputs": []
    }
  ]
}